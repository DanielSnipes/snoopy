{
 "cells": [
  {
   "cell_type": "markdown",
   "metadata": {},
   "source": [
    "# Demonstration notebook for snoopy"
   ]
  },
  {
   "cell_type": "code",
   "execution_count": 1,
   "metadata": {
    "collapsed": true
   },
   "outputs": [],
   "source": [
    "import snoopy"
   ]
  },
  {
   "cell_type": "code",
   "execution_count": 3,
   "metadata": {},
   "outputs": [
    {
     "name": "stderr",
     "output_type": "stream",
     "text": [
      "2018-02-08 07:01:41,252 - Sojy : Wicked ways beneath the skin, let all who taste it now join in...\n"
     ]
    }
   ],
   "source": [
    "x = snoopy.SnopesParser(max_page=2)"
   ]
  },
  {
   "cell_type": "code",
   "execution_count": 4,
   "metadata": {},
   "outputs": [
    {
     "name": "stderr",
     "output_type": "stream",
     "text": [
      "2018-02-08 07:01:45,531 - Sojy : Getting articles from http://www.snopes.com/category/facts/page/1\n",
      "2018-02-08 07:01:45,536 - Sojy : Getting data via requests\n",
      "2018-02-08 07:01:46,284 - Sojy : Souping data\n",
      "2018-02-08 07:01:46,358 - Sojy : Getting articles from http://www.snopes.com/category/facts/page/2\n",
      "2018-02-08 07:01:46,359 - Sojy : Getting data via requests\n",
      "2018-02-08 07:01:47,364 - Sojy : Souping data\n",
      "2018-02-08 07:01:47,459 - Sojy : Formatting articles to a dataframe\n",
      "2018-02-08 07:01:47,464 - Sojy : All set\n"
     ]
    }
   ],
   "source": [
    "x.run()"
   ]
  },
  {
   "cell_type": "code",
   "execution_count": 5,
   "metadata": {},
   "outputs": [
    {
     "data": {
      "text/html": [
       "<div>\n",
       "<style scoped>\n",
       "    .dataframe tbody tr th:only-of-type {\n",
       "        vertical-align: middle;\n",
       "    }\n",
       "\n",
       "    .dataframe tbody tr th {\n",
       "        vertical-align: top;\n",
       "    }\n",
       "\n",
       "    .dataframe thead th {\n",
       "        text-align: right;\n",
       "    }\n",
       "</style>\n",
       "<table border=\"1\" class=\"dataframe\">\n",
       "  <thead>\n",
       "    <tr style=\"text-align: right;\">\n",
       "      <th></th>\n",
       "      <th>pub_date</th>\n",
       "      <th>title</th>\n",
       "      <th>mod_date</th>\n",
       "      <th>tags</th>\n",
       "      <th>post_num</th>\n",
       "      <th>claim</th>\n",
       "      <th>url</th>\n",
       "      <th>date</th>\n",
       "      <th>is_valid</th>\n",
       "    </tr>\n",
       "  </thead>\n",
       "  <tbody>\n",
       "    <tr>\n",
       "      <th>0</th>\n",
       "      <td>2018-02-05T11:30:15+00:00</td>\n",
       "      <td>Did Outback Steakhouse Kick Out a Policeman Be...</td>\n",
       "      <td>2018-02-05T08:30:20+00:00</td>\n",
       "      <td>[tag-gun-free-zone, tag-outback-steakhouse]</td>\n",
       "      <td>post-127285</td>\n",
       "      <td>Outback Steakhouse is a \"gun free zone\" and a ...</td>\n",
       "      <td>https://www.snopes.com/outback-steakhouse-gun-...</td>\n",
       "      <td>5 February 2018</td>\n",
       "      <td>MIXTURE</td>\n",
       "    </tr>\n",
       "    <tr>\n",
       "      <th>1</th>\n",
       "      <td>2018-02-05T10:06:46+00:00</td>\n",
       "      <td>Did the Eagles Respond to Trump’s Congratulato...</td>\n",
       "      <td>2018-02-05T10:06:46+00:00</td>\n",
       "      <td>[tag-donald-trump, tag-new-england-patriots, t...</td>\n",
       "      <td>post-127295</td>\n",
       "      <td>The Philadelphia Eagles responded to a tweet f...</td>\n",
       "      <td>https://www.snopes.com/eagles-respond-trumps-c...</td>\n",
       "      <td>5 February 2018</td>\n",
       "      <td>FALSE</td>\n",
       "    </tr>\n",
       "    <tr>\n",
       "      <th>2</th>\n",
       "      <td>2018-02-05T13:00:35+00:00</td>\n",
       "      <td>Did a Former Michigan Politician Defend Men Ha...</td>\n",
       "      <td>2018-02-05T12:19:48+00:00</td>\n",
       "      <td>[tag-facebook, tag-michigan, tag-pedophilia, t...</td>\n",
       "      <td>post-127299</td>\n",
       "      <td>On Facebook, Michael Saari wrote that it was \"...</td>\n",
       "      <td>https://www.snopes.com/michael-saari-michigan-...</td>\n",
       "      <td>5 February 2018</td>\n",
       "      <td>UNPROVEN</td>\n",
       "    </tr>\n",
       "    <tr>\n",
       "      <th>3</th>\n",
       "      <td>2018-02-06T10:14:17+00:00</td>\n",
       "      <td>Did the Black Panthers Create the WIC Food Pro...</td>\n",
       "      <td>2018-02-06T11:42:52+00:00</td>\n",
       "      <td>[tag-african-american-history-month, tag-black...</td>\n",
       "      <td>post-127301</td>\n",
       "      <td>The Black Panther Party created the Women, Inf...</td>\n",
       "      <td>https://www.snopes.com/black-panthers-wic-food...</td>\n",
       "      <td>6 February 2018</td>\n",
       "      <td>MOSTLY FALSE</td>\n",
       "    </tr>\n",
       "    <tr>\n",
       "      <th>4</th>\n",
       "      <td>2018-02-05T13:31:06+00:00</td>\n",
       "      <td>Did an Eagles Fan Steal an Ostrich from the Zo...</td>\n",
       "      <td>2018-02-05T10:41:52+00:00</td>\n",
       "      <td>[tag-nfl, tag-ostrich, tag-philadelphia-eagles...</td>\n",
       "      <td>post-127311</td>\n",
       "      <td>A Philadelphia Eagles fan stole an ostrich fro...</td>\n",
       "      <td>https://www.snopes.com/eagles-ostrich-steal-zo...</td>\n",
       "      <td>5 February 2018</td>\n",
       "      <td>FALSE</td>\n",
       "    </tr>\n",
       "  </tbody>\n",
       "</table>\n",
       "</div>"
      ],
      "text/plain": [
       "                    pub_date  \\\n",
       "0  2018-02-05T11:30:15+00:00   \n",
       "1  2018-02-05T10:06:46+00:00   \n",
       "2  2018-02-05T13:00:35+00:00   \n",
       "3  2018-02-06T10:14:17+00:00   \n",
       "4  2018-02-05T13:31:06+00:00   \n",
       "\n",
       "                                               title  \\\n",
       "0  Did Outback Steakhouse Kick Out a Policeman Be...   \n",
       "1  Did the Eagles Respond to Trump’s Congratulato...   \n",
       "2  Did a Former Michigan Politician Defend Men Ha...   \n",
       "3  Did the Black Panthers Create the WIC Food Pro...   \n",
       "4  Did an Eagles Fan Steal an Ostrich from the Zo...   \n",
       "\n",
       "                    mod_date  \\\n",
       "0  2018-02-05T08:30:20+00:00   \n",
       "1  2018-02-05T10:06:46+00:00   \n",
       "2  2018-02-05T12:19:48+00:00   \n",
       "3  2018-02-06T11:42:52+00:00   \n",
       "4  2018-02-05T10:41:52+00:00   \n",
       "\n",
       "                                                tags     post_num  \\\n",
       "0        [tag-gun-free-zone, tag-outback-steakhouse]  post-127285   \n",
       "1  [tag-donald-trump, tag-new-england-patriots, t...  post-127295   \n",
       "2  [tag-facebook, tag-michigan, tag-pedophilia, t...  post-127299   \n",
       "3  [tag-african-american-history-month, tag-black...  post-127301   \n",
       "4  [tag-nfl, tag-ostrich, tag-philadelphia-eagles...  post-127311   \n",
       "\n",
       "                                               claim  \\\n",
       "0  Outback Steakhouse is a \"gun free zone\" and a ...   \n",
       "1  The Philadelphia Eagles responded to a tweet f...   \n",
       "2  On Facebook, Michael Saari wrote that it was \"...   \n",
       "3  The Black Panther Party created the Women, Inf...   \n",
       "4  A Philadelphia Eagles fan stole an ostrich fro...   \n",
       "\n",
       "                                                 url             date  \\\n",
       "0  https://www.snopes.com/outback-steakhouse-gun-...  5 February 2018   \n",
       "1  https://www.snopes.com/eagles-respond-trumps-c...  5 February 2018   \n",
       "2  https://www.snopes.com/michael-saari-michigan-...  5 February 2018   \n",
       "3  https://www.snopes.com/black-panthers-wic-food...  6 February 2018   \n",
       "4  https://www.snopes.com/eagles-ostrich-steal-zo...  5 February 2018   \n",
       "\n",
       "       is_valid  \n",
       "0       MIXTURE  \n",
       "1         FALSE  \n",
       "2      UNPROVEN  \n",
       "3  MOSTLY FALSE  \n",
       "4         FALSE  "
      ]
     },
     "execution_count": 5,
     "metadata": {},
     "output_type": "execute_result"
    }
   ],
   "source": [
    "x.data.head()"
   ]
  },
  {
   "cell_type": "code",
   "execution_count": null,
   "metadata": {
    "collapsed": true
   },
   "outputs": [],
   "source": []
  }
 ],
 "metadata": {
  "kernelspec": {
   "display_name": "Python 3",
   "language": "python",
   "name": "python3"
  },
  "language_info": {
   "codemirror_mode": {
    "name": "ipython",
    "version": 3
   },
   "file_extension": ".py",
   "mimetype": "text/x-python",
   "name": "python",
   "nbconvert_exporter": "python",
   "pygments_lexer": "ipython3",
   "version": "3.5.4"
  }
 },
 "nbformat": 4,
 "nbformat_minor": 2
}
